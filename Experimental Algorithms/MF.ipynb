{
 "cells": [
  {
   "attachments": {},
   "cell_type": "markdown",
   "metadata": {},
   "source": [
    "# Matrix Factorization "
   ]
  },
  {
   "attachments": {},
   "cell_type": "markdown",
   "metadata": {},
   "source": [
    "## Setup\n",
    "I am using cython because it allows me to speed up the training of the model"
   ]
  },
  {
   "attachments": {},
   "cell_type": "markdown",
   "metadata": {},
   "source": [
    "### Cython -- WIP"
   ]
  },
  {
   "cell_type": "code",
   "execution_count": 6,
   "metadata": {},
   "outputs": [
    {
     "name": "stderr",
     "output_type": "stream",
     "text": [
      "UsageError: Line magic function `%%cython` not found.\n"
     ]
    }
   ],
   "source": [
    "%load_ext Cython\n",
    "%%cython"
   ]
  },
  {
   "attachments": {},
   "cell_type": "markdown",
   "metadata": {},
   "source": [
    "### Imports"
   ]
  },
  {
   "cell_type": "code",
   "execution_count": 4,
   "metadata": {},
   "outputs": [
    {
     "name": "stdout",
     "output_type": "stream",
     "text": [
      "c:\\Progetto_Ing_Informatica\\Master\\RecSys\n"
     ]
    }
   ],
   "source": [
    "%cd ../"
   ]
  },
  {
   "cell_type": "code",
   "execution_count": 24,
   "metadata": {},
   "outputs": [
    {
     "ename": "ImportError",
     "evalue": "cannot import name 'split_train_in_three_percetanges' from 'Data_manager.split_functions.split_train_validation_random_holdout' (c:\\Progetto_Ing_Informatica\\Master\\RecSys\\Data_manager\\split_functions\\split_train_validation_random_holdout.py)",
     "output_type": "error",
     "traceback": [
      "\u001b[1;31m---------------------------------------------------------------------------\u001b[0m",
      "\u001b[1;31mImportError\u001b[0m                               Traceback (most recent call last)",
      "Cell \u001b[1;32mIn[24], line 7\u001b[0m\n\u001b[0;32m      5\u001b[0m \u001b[39mimport\u001b[39;00m \u001b[39msklearn\u001b[39;00m\u001b[39m.\u001b[39;00m\u001b[39mutils\u001b[39;00m\u001b[39m.\u001b[39;00m\u001b[39mfixes\u001b[39;00m\n\u001b[0;32m      6\u001b[0m \u001b[39mimport\u001b[39;00m \u001b[39mscipy\u001b[39;00m\u001b[39m.\u001b[39;00m\u001b[39msparse\u001b[39;00m \u001b[39mas\u001b[39;00m \u001b[39msps\u001b[39;00m\n\u001b[1;32m----> 7\u001b[0m \u001b[39mfrom\u001b[39;00m \u001b[39mData_manager\u001b[39;00m\u001b[39m.\u001b[39;00m\u001b[39msplit_functions\u001b[39;00m\u001b[39m.\u001b[39;00m\u001b[39msplit_train_validation_random_holdout\u001b[39;00m \u001b[39mimport\u001b[39;00m split_train_in_three_percetanges\n",
      "\u001b[1;31mImportError\u001b[0m: cannot import name 'split_train_in_three_percetanges' from 'Data_manager.split_functions.split_train_validation_random_holdout' (c:\\Progetto_Ing_Informatica\\Master\\RecSys\\Data_manager\\split_functions\\split_train_validation_random_holdout.py)"
     ]
    }
   ],
   "source": [
    "import time\n",
    "import numpy as np\n",
    "import pandas as pd\n",
    "from numpy.ma import MaskedArray\n",
    "import sklearn.utils.fixes\n",
    "import scipy.sparse as sps\n",
    "from Data_manager.split_functions.split_train_validation_random_holdout import split_train_in_three_percetanges"
   ]
  },
  {
   "attachments": {},
   "cell_type": "markdown",
   "metadata": {},
   "source": [
    "## Data"
   ]
  },
  {
   "attachments": {},
   "cell_type": "markdown",
   "metadata": {},
   "source": [
    "### Paths"
   ]
  },
  {
   "cell_type": "code",
   "execution_count": 8,
   "metadata": {},
   "outputs": [],
   "source": [
    "URM_PATH= 'Data/interactions_and_impressions.csv'"
   ]
  },
  {
   "attachments": {},
   "cell_type": "markdown",
   "metadata": {},
   "source": [
    "### Load data"
   ]
  },
  {
   "cell_type": "code",
   "execution_count": 11,
   "metadata": {},
   "outputs": [
    {
     "name": "stdout",
     "output_type": "stream",
     "text": [
      "The number of interactions is 5826506\n"
     ]
    }
   ],
   "source": [
    "# Load the data\n",
    "URM_all_dataframe = pd.read_csv(filepath_or_buffer=URM_PATH,\n",
    "                                sep=\",\",\n",
    "                                header=0, engine='python')\n",
    "URM_all_dataframe.columns = [\"UserID\", \"ItemID\", \"Impressions\", \"Data\"]\n",
    "\n",
    "print(\"The number of interactions is {}\".format(len(URM_all_dataframe)))"
   ]
  },
  {
   "cell_type": "code",
   "execution_count": 12,
   "metadata": {},
   "outputs": [
    {
     "data": {
      "text/html": [
       "<div>\n",
       "<style scoped>\n",
       "    .dataframe tbody tr th:only-of-type {\n",
       "        vertical-align: middle;\n",
       "    }\n",
       "\n",
       "    .dataframe tbody tr th {\n",
       "        vertical-align: top;\n",
       "    }\n",
       "\n",
       "    .dataframe thead th {\n",
       "        text-align: right;\n",
       "    }\n",
       "</style>\n",
       "<table border=\"1\" class=\"dataframe\">\n",
       "  <thead>\n",
       "    <tr style=\"text-align: right;\">\n",
       "      <th></th>\n",
       "      <th>UserID</th>\n",
       "      <th>ItemID</th>\n",
       "      <th>Impressions</th>\n",
       "      <th>Data</th>\n",
       "    </tr>\n",
       "  </thead>\n",
       "  <tbody>\n",
       "    <tr>\n",
       "      <th>0</th>\n",
       "      <td>0</td>\n",
       "      <td>11</td>\n",
       "      <td>0,1,2,3,4,5,6,7,8,9,10,11,12,13,14,15,16,17,18,19</td>\n",
       "      <td>1</td>\n",
       "    </tr>\n",
       "    <tr>\n",
       "      <th>1</th>\n",
       "      <td>0</td>\n",
       "      <td>21</td>\n",
       "      <td>NaN</td>\n",
       "      <td>0</td>\n",
       "    </tr>\n",
       "    <tr>\n",
       "      <th>2</th>\n",
       "      <td>0</td>\n",
       "      <td>21</td>\n",
       "      <td>NaN</td>\n",
       "      <td>0</td>\n",
       "    </tr>\n",
       "    <tr>\n",
       "      <th>3</th>\n",
       "      <td>0</td>\n",
       "      <td>21</td>\n",
       "      <td>20,21,22,23,24,25,26,27,28,29</td>\n",
       "      <td>0</td>\n",
       "    </tr>\n",
       "    <tr>\n",
       "      <th>4</th>\n",
       "      <td>0</td>\n",
       "      <td>21</td>\n",
       "      <td>NaN</td>\n",
       "      <td>1</td>\n",
       "    </tr>\n",
       "  </tbody>\n",
       "</table>\n",
       "</div>"
      ],
      "text/plain": [
       "   UserID  ItemID                                        Impressions  Data\n",
       "0       0      11  0,1,2,3,4,5,6,7,8,9,10,11,12,13,14,15,16,17,18,19     1\n",
       "1       0      21                                                NaN     0\n",
       "2       0      21                                                NaN     0\n",
       "3       0      21                      20,21,22,23,24,25,26,27,28,29     0\n",
       "4       0      21                                                NaN     1"
      ]
     },
     "execution_count": 12,
     "metadata": {},
     "output_type": "execute_result"
    }
   ],
   "source": [
    "URM_all_dataframe.head(5)"
   ]
  },
  {
   "cell_type": "code",
   "execution_count": 13,
   "metadata": {},
   "outputs": [],
   "source": [
    "userID_unique = URM_all_dataframe[\"UserID\"].unique()\n",
    "itemID_unique = URM_all_dataframe[\"ItemID\"].unique()"
   ]
  },
  {
   "attachments": {},
   "cell_type": "markdown",
   "metadata": {},
   "source": [
    "### Costants"
   ]
  },
  {
   "cell_type": "code",
   "execution_count": 14,
   "metadata": {},
   "outputs": [],
   "source": [
    "n_users = len(userID_unique)\n",
    "n_items = len(itemID_unique)\n",
    "n_iteractions = len(URM_all_dataframe)"
   ]
  },
  {
   "attachments": {},
   "cell_type": "markdown",
   "metadata": {},
   "source": [
    "### Analyse"
   ]
  },
  {
   "cell_type": "code",
   "execution_count": 15,
   "metadata": {},
   "outputs": [
    {
     "name": "stdout",
     "output_type": "stream",
     "text": [
      "Number of items\t 24507, Number of users\t 41629\n",
      "Max ID items\t 24506, Max Id users\t 41628\n",
      "\n",
      "Number of interactions\t 5826506\n"
     ]
    }
   ],
   "source": [
    "print(\"Number of items\\t {}, Number of users\\t {}\".format(n_items, n_users))\n",
    "print(\"Max ID items\\t {}, Max Id users\\t {}\\n\".format(max(itemID_unique), max(userID_unique)))\n",
    "print(\"Number of interactions\\t {}\".format(n_iteractions))"
   ]
  },
  {
   "cell_type": "code",
   "execution_count": 16,
   "metadata": {},
   "outputs": [
    {
     "name": "stdout",
     "output_type": "stream",
     "text": [
      "Average interactions per user 139.96\n",
      "Average interactions per item 237.75\n",
      "\n"
     ]
    }
   ],
   "source": [
    "print(\"Average interactions per user {:.2f}\".format(n_iteractions / n_users))\n",
    "print(\"Average interactions per item {:.2f}\\n\".format(n_iteractions / n_items))"
   ]
  },
  {
   "cell_type": "code",
   "execution_count": 17,
   "metadata": {},
   "outputs": [
    {
     "name": "stdout",
     "output_type": "stream",
     "text": [
      "Sparsity 99.43 %\n"
     ]
    }
   ],
   "source": [
    "print(\"Sparsity {:.2f} %\".format((1 - float((n_iteractions) / (n_items * n_users))) * 100))"
   ]
  },
  {
   "attachments": {},
   "cell_type": "markdown",
   "metadata": {},
   "source": [
    "## Paramenters"
   ]
  },
  {
   "cell_type": "code",
   "execution_count": 19,
   "metadata": {},
   "outputs": [],
   "source": [
    "VALIDATION_RATIO = 0.15\n",
    "TEST_RATIO = 0.1\n",
    "\n",
    "WISE_USER = False # If True, select the number of interactions one user at a time. Otherwise, globally."
   ]
  },
  {
   "attachments": {},
   "cell_type": "markdown",
   "metadata": {},
   "source": [
    "## Implict URM"
   ]
  },
  {
   "cell_type": "code",
   "execution_count": 20,
   "metadata": {},
   "outputs": [
    {
     "ename": "NameError",
     "evalue": "name 'split_train_in_three_percetange' is not defined",
     "output_type": "error",
     "traceback": [
      "\u001b[1;31m---------------------------------------------------------------------------\u001b[0m",
      "\u001b[1;31mNameError\u001b[0m                                 Traceback (most recent call last)",
      "Cell \u001b[1;32mIn[20], line 5\u001b[0m\n\u001b[0;32m      1\u001b[0m URM_all \u001b[39m=\u001b[39m sps\u001b[39m.\u001b[39mcoo_matrix((np\u001b[39m.\u001b[39mones(\u001b[39mlen\u001b[39m(URM_all_dataframe[\u001b[39m\"\u001b[39m\u001b[39mData\u001b[39m\u001b[39m\"\u001b[39m]\u001b[39m.\u001b[39mvalues)),\n\u001b[0;32m      2\u001b[0m                           (URM_all_dataframe[\u001b[39m\"\u001b[39m\u001b[39mUserID\u001b[39m\u001b[39m\"\u001b[39m]\u001b[39m.\u001b[39mvalues, URM_all_dataframe[\u001b[39m\"\u001b[39m\u001b[39mItemID\u001b[39m\u001b[39m\"\u001b[39m]\u001b[39m.\u001b[39mvalues)))\n\u001b[0;32m      3\u001b[0m URM_all \u001b[39m=\u001b[39m URM_all\u001b[39m.\u001b[39mtocsr()  \u001b[39m# to obtain fast access to rows (users)\u001b[39;00m\n\u001b[1;32m----> 5\u001b[0m URM_train, URM_validation, URM_test \u001b[39m=\u001b[39m split_train_in_three_percetange(URM_all, VALIDATION_RATIO, TEST_RATIO)\n\u001b[0;32m      7\u001b[0m \u001b[39mlen\u001b[39m(URM_train), \u001b[39mlen\u001b[39m(URM_validation), \u001b[39mlen\u001b[39m(URM_test)\n",
      "\u001b[1;31mNameError\u001b[0m: name 'split_train_in_three_percetange' is not defined"
     ]
    }
   ],
   "source": [
    "URM_all = sps.coo_matrix((np.ones(len(URM_all_dataframe[\"Data\"].values)),\n",
    "                          (URM_all_dataframe[\"UserID\"].values, URM_all_dataframe[\"ItemID\"].values)))\n",
    "URM_all = URM_all.tocsr()  # to obtain fast access to rows (users)\n",
    "\n",
    "URM_train, URM_validation, URM_test = split_train_in_three_percetange(URM_all, VALIDATION_RATIO, TEST_RATIO)\n",
    "\n",
    "len(URM_train), len(URM_validation), len(URM_test)"
   ]
  },
  {
   "cell_type": "code",
   "execution_count": null,
   "metadata": {},
   "outputs": [],
   "source": [
    "# Build the URM: I turn every kind of interaction as a 1, so I first eliminate all the duplicate and then turn every\n",
    "# value remained in the Data of the iteractions_and_impressions into a 1\n",
    "URM_all_dataframe = URM_all_dataframe.drop_duplicates(['UserID', 'ItemID'], keep='first')\n",
    "\n",
    "URM_all = sps.coo_matrix((np.ones(len(URM_all_dataframe[\"Data\"].values)),\n",
    "                          (URM_all_dataframe[\"UserID\"].values, URM_all_dataframe[\"ItemID\"].values)))\n",
    "URM_all = URM_all.tocsr()  # to obtain fast access to rows (users)\n",
    "\n",
    "from Data_manager.split_functions.split_train_validation_random_holdout import \\\n",
    "    split_train_in_two_percentage_global_sample\n",
    "\n",
    "# split data into train and validation data\n",
    "URM_train_validation, URM_test = split_train_in_two_percentage_global_sample(URM_all, train_percentage=0.80)\n",
    "URM_train, URM_validation = split_train_in_two_percentage_global_sample(URM_train_validation, train_percentage=0.80)\n"
   ]
  },
  {
   "attachments": {},
   "cell_type": "markdown",
   "metadata": {},
   "source": [
    "## Creation of latent factor matrices"
   ]
  },
  {
   "cell_type": "code",
   "execution_count": null,
   "metadata": {},
   "outputs": [],
   "source": [
    "num_factors = 10\n",
    "\n",
    "#Create random matrices\n",
    "user_factors = np.random.random((n_users, NUM_FACTORS))\n",
    "item_factors = np.random.random((N_ITEM, NUM_FACTORS))"
   ]
  },
  {
   "cell_type": "code",
   "execution_count": null,
   "metadata": {},
   "outputs": [],
   "source": []
  },
  {
   "cell_type": "code",
   "execution_count": null,
   "metadata": {},
   "outputs": [],
   "source": []
  }
 ],
 "metadata": {
  "kernelspec": {
   "display_name": "RecSys",
   "language": "python",
   "name": "python3"
  },
  "language_info": {
   "codemirror_mode": {
    "name": "ipython",
    "version": 3
   },
   "file_extension": ".py",
   "mimetype": "text/x-python",
   "name": "python",
   "nbconvert_exporter": "python",
   "pygments_lexer": "ipython3",
   "version": "3.8.15 (default, Nov 24 2022, 14:38:14) [MSC v.1916 64 bit (AMD64)]"
  },
  "orig_nbformat": 4,
  "vscode": {
   "interpreter": {
    "hash": "3e20945caac25609d339b20d8cf37beb8ee9d6d19ccbfb129cd26220d3f01bf7"
   }
  }
 },
 "nbformat": 4,
 "nbformat_minor": 2
}
